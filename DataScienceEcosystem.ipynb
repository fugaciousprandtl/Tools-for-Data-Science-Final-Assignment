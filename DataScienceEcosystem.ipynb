{
 "cells": [
  {
   "cell_type": "markdown",
   "id": "c1a7e9a5",
   "metadata": {},
   "source": [
    "# Data Science Tools and Ecosystem"
   ]
  },
  {
   "cell_type": "markdown",
   "id": "ce9752c1",
   "metadata": {},
   "source": [
    "## Author\n",
    "John Kim"
   ]
  },
  {
   "cell_type": "markdown",
   "id": "91181898",
   "metadata": {},
   "source": [
    "In this notebook, Data Science Tools and Ecosystem are summarized."
   ]
  },
  {
   "cell_type": "markdown",
   "id": "76b6039e",
   "metadata": {},
   "source": [
    "**Objectives:**\n",
    "\n",
    "- List commonly used languages by Data Scientists\n",
    "- List commonly used libraries by Data Scientists\n",
    "- Create a basic table in the Jupyter notebook\n",
    "- Perform basic arithmetic expressions in Jupyter notebook\n",
    "- Be able to give some examples of open-source development environment tools for Data Scientists."
   ]
  },
  {
   "cell_type": "markdown",
   "id": "37763cbf",
   "metadata": {},
   "source": [
    "Some of the popular languages that Data Scientists use are: \n",
    "1. Python\n",
    "2. R\n",
    "3. Java\n",
    "4. C/C++\n",
    "5. SQL"
   ]
  },
  {
   "cell_type": "markdown",
   "id": "85e05d80",
   "metadata": {},
   "source": [
    "Some of the commonly used libraries used by Data Scientists include:\n",
    "1. Numpy\n",
    "2. TensorFlow\n",
    "3. PyTorch\n",
    "4. Keras\n",
    "5. Pandas\n"
   ]
  },
  {
   "cell_type": "markdown",
   "id": "16146dcd",
   "metadata": {},
   "source": [
    "|Data Science Tools|\n",
    "|------------------|\n",
    "|R Studio|\n",
    "|TensorFlow|\n",
    "|Apache Hadoop|"
   ]
  },
  {
   "cell_type": "markdown",
   "id": "f319ecda",
   "metadata": {},
   "source": [
    "### Below are a few examples of evaluating arthmetic expression in Python"
   ]
  },
  {
   "cell_type": "code",
   "execution_count": 4,
   "id": "fe7f3a1e",
   "metadata": {},
   "outputs": [
    {
     "data": {
      "text/plain": [
       "17"
      ]
     },
     "execution_count": 4,
     "metadata": {},
     "output_type": "execute_result"
    }
   ],
   "source": [
    "#this is a simple arithmetic expression to multiply then add integers\n",
    "(3*4)+5\n"
   ]
  },
  {
   "cell_type": "code",
   "execution_count": 9,
   "id": "dc594f4e",
   "metadata": {},
   "outputs": [
    {
     "name": "stdout",
     "output_type": "stream",
     "text": [
      "3.3333333333333335\n"
     ]
    }
   ],
   "source": [
    "#This will convert 200 minutes to hours by dividing by 60\n",
    "\n",
    "min_in_hrs = 200/60\n",
    "print(min_in_hrs)"
   ]
  },
  {
   "cell_type": "markdown",
   "id": "08351042",
   "metadata": {},
   "source": []
  }
 ],
 "metadata": {
  "kernelspec": {
   "display_name": "Python 3 (ipykernel)",
   "language": "python",
   "name": "python3"
  },
  "language_info": {
   "codemirror_mode": {
    "name": "ipython",
    "version": 3
   },
   "file_extension": ".py",
   "mimetype": "text/x-python",
   "name": "python",
   "nbconvert_exporter": "python",
   "pygments_lexer": "ipython3",
   "version": "3.9.7"
  }
 },
 "nbformat": 4,
 "nbformat_minor": 5
}
